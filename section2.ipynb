{
 "cells": [
  {
   "cell_type": "markdown",
   "metadata": {},
   "source": [
    "# 言語処理100本ノック\n",
    "https://nlp100.github.io/ja/ch02.html"
   ]
  },
  {
   "cell_type": "markdown",
   "metadata": {},
   "source": [
    "## 第2章: UNIXコマンドの基礎\n",
    "\n",
    "hightemp.txtは，日本の最高気温の記録を「都道府県」「地点」「℃」「日」のタブ区切り形式で格納したファイルである．以下の処理を行うプログラムを作成し，hightemp.txtを入力ファイルとして実行せよ．さらに，同様の処理をUNIXコマンドでも実行し，プログラムの実行結果を確認せよ．\n",
    "\n",
    "### 10. 行数のカウント\n",
    "\n",
    "行数をカウントせよ．確認にはwcコマンドを用いよ．  \n",
    "  "
   ]
  },
  {
   "cell_type": "code",
   "execution_count": 42,
   "outputs": [
    {
     "name": "stdout",
     "text": [
      "行数は2780である．\n"
     ],
     "output_type": "stream"
    }
   ],
   "source": [
    "file_path = './data/popular-names.txt' \n",
    "with open(file_path, 'r') as f:\n",
    "    data = f.read()\n",
    "num_lines = data.count('\\n')\n",
    "print(f\"行数は{num_lines}である．\")\n",
    "# 確認：($ wc -l popular-names.txt) --> 2780"
   ],
   "metadata": {
    "collapsed": false,
    "pycharm": {
     "name": "#%%\n",
     "is_executing": false
    }
   }
  },
  {
   "cell_type": "markdown",
   "source": [
    "### 11. タブをスペースに置換\n",
    "タブ1文字につきスペース1文字に置換せよ．確認にはsedコマンド，trコマンド，もしくはexpandコマンドを用いよ．"
   ],
   "metadata": {
    "collapsed": false
   }
  },
  {
   "cell_type": "code",
   "execution_count": 39,
   "outputs": [
    {
     "name": "stdout",
     "text": [
      "sedコマンドを用いた結果と一致するか？ True\n"
     ],
     "output_type": "stream"
    }
   ],
   "source": [
    "data_tab_replaced = data.replace('\\t', ' ')\n",
    "# sed s/$'\\t'/\" \"/g ./popular-names.txt > tab_replaced_pupular-names.txt\n",
    "file_path_1 = './data/tab_replaced_pupular-names.txt'\n",
    "with open(file_path_1, 'r') as f:\n",
    "    data_tab_replaced_by_sed = f.read()\n",
    "\n",
    "print(f\"sedコマンドを用いた結果と一致するか？ {data_tab_replaced == data_tab_replaced_by_sed}\")"
   ],
   "metadata": {
    "collapsed": false,
    "pycharm": {
     "name": "#%%\n",
     "is_executing": false
    }
   }
  },
  {
   "cell_type": "markdown",
   "source": [
    "### 12. 1列目をcol1.txtに，2列目をcol2.txtに保存\n",
    "各行の1列目だけを抜き出したものをcol1.txtに，2列目だけを抜き出したものをcol2.txtとしてファイルに保存せよ．確認にはcutコマンドを用いよ．"
   ],
   "metadata": {
    "collapsed": false,
    "pycharm": {
     "name": "#%% md\n"
    }
   }
  },
  {
   "cell_type": "code",
   "execution_count": 11,
   "outputs": [],
   "source": [
    "# cut -f 1 -d $'\\t' ./data/popular-names.txt > ./data/col1_popular-names.txt\n",
    "# cut -f 2 -d $'\\t' ./data/popular-names.txt > ./data/col2_popular-names.txt\n",
    "import csv\n",
    "col1, col2 = [], []\n",
    "with open(file_path, 'r') as f:\n",
    "    f_reader = csv.reader(f, delimiter='\\t')\n",
    "    for f_ in f_reader:\n",
    "        col1.append(f_[0])\n",
    "        col2.append(f_[1])\n",
    "with open('./data/col1.txt', 'w') as f:\n",
    "    f.write('\\n'.join(col1))\n",
    "with open('./data/col2.txt', 'w') as f:\n",
    "    f.write('\\n'.join(col2))\n",
    "    "
   ],
   "metadata": {
    "collapsed": false,
    "pycharm": {
     "name": "#%%\n",
     "is_executing": false
    }
   }
  },
  {
   "cell_type": "code",
   "execution_count": 15,
   "outputs": [
    {
     "name": "stdout",
     "text": [
      "col1 is true or false : True\n",
      "col1 is true or false : True\n"
     ],
     "output_type": "stream"
    }
   ],
   "source": [
    "with open('./data/col1.txt', 'r') as f1, open('./data/col1_popular-names.txt', 'r') as f1_ans:\n",
    "    f1_txt = f1.read()\n",
    "    f1_ans_txt = f1_ans.read().rstrip()\n",
    "    print(f'col1 is true or false : {f1_txt == f1_ans_txt}')\n",
    "\n",
    "with open('./data/col1.txt', 'r') as f2, open('./data/col1_popular-names.txt', 'r') as f2_ans:\n",
    "    f2_txt = f2.read()\n",
    "    f2_ans_txt = f2_ans.read().rstrip()\n",
    "    print(f'col2 is true or false : {f2_txt == f2_ans_txt}')"
   ],
   "metadata": {
    "collapsed": false,
    "pycharm": {
     "name": "#%%\n",
     "is_executing": false
    }
   }
  },
  {
   "cell_type": "markdown",
   "source": [
    "\n",
    "### 13. col1.txtとcol2.txtをマージ\n",
    "12で作ったcol1.txtとcol2.txtを結合し，元のファイルの1列目と2列目をタブ区切りで並べたテキストファイルを作成せよ．確認にはpasteコマンドを用いよ．"
   ],
   "metadata": {
    "collapsed": false
   }
  },
  {
   "cell_type": "code",
   "execution_count": 18,
   "outputs": [],
   "source": [
    "with open('./data/col1.txt', 'r') as f1, open('./data/col2.txt', 'r') as f2:\n",
    "    f1_txt = f1.read()\n",
    "    f2_txt = f2.read()\n",
    "f1_list = f1_txt.split()\n",
    "f2_list = f2_txt.split()\n",
    "f1_f2_list = []\n",
    "for f1, f2 in zip(f1_list, f2_list):\n",
    "    f1_f2_list.append(f1+'\\t'+f2)\n",
    "with open('./data/col1_col2.txt', 'w') as f:\n",
    "    f.write('\\n'.join(f1_f2_list))"
   ],
   "metadata": {
    "collapsed": false,
    "pycharm": {
     "name": "#%%\n",
     "is_executing": false
    }
   }
  },
  {
   "cell_type": "code",
   "execution_count": 21,
   "outputs": [
    {
     "name": "stdout",
     "text": [
      "col1_col2 is true or false : True\n"
     ],
     "output_type": "stream"
    }
   ],
   "source": [
    "with open('./data/col1_col2.txt', 'r') as f, open('./data/col1_col2_by_paste.txt', 'r') as f_ans:\n",
    "    f_txt = f.read()\n",
    "    f_ans_txt = f_ans.read().rstrip()\n",
    "    print(f'col1_col2 is true or false : {f_txt == f_ans_txt}')"
   ],
   "metadata": {
    "collapsed": false,
    "pycharm": {
     "name": "#%%\n",
     "is_executing": false
    }
   }
  },
  {
   "cell_type": "markdown",
   "source": [
    "### 14. 先頭からN行を出力\n",
    "自然数Nをコマンドライン引数などの手段で受け取り，入力のうち先頭のN行だけを表示せよ．確認にはheadコマンドを用いよ．"
   ],
   "metadata": {
    "collapsed": false
   }
  },
  {
   "cell_type": "code",
   "execution_count": 48,
   "outputs": [
    {
     "name": "stdout",
     "text": [
      "N:2\n",
      "Mary\tF\t7065\t1880\n",
      "Anna\tF\t2604\t1880\n",
      "------------------------\n",
      "Mary\tF\t7065\t1880\r\n",
      "Anna\tF\t2604\t1880\r\n"
     ],
     "output_type": "stream"
    }
   ],
   "source": [
    "N = int(input())\n",
    "data_lines = data.rstrip().split('\\n')\n",
    "print(f'N:{N}')\n",
    "print('\\n'.join(data_lines[:N]))\n",
    "print('------------------------')\n",
    "\n",
    "!head -n 2 ./data/popular-names.txt"
   ],
   "metadata": {
    "collapsed": false,
    "pycharm": {
     "name": "#%%\n",
     "is_executing": false
    }
   }
  },
  {
   "cell_type": "markdown",
   "source": [
    "### 15. 末尾のN行を出力\n",
    "自然数Nをコマンドライン引数などの手段で受け取り，入力のうち末尾のN行だけを表示せよ．確認にはtailコマンドを用いよ．"
   ],
   "metadata": {
    "collapsed": false
   }
  },
  {
   "cell_type": "code",
   "execution_count": 50,
   "outputs": [
    {
     "name": "stdout",
     "text": [
      "N:2\n",
      "Mason\tM\t12435\t2018\n",
      "Logan\tM\t12352\t2018\n",
      "------------------------\n",
      "Mason\tM\t12435\t2018\r\n",
      "Logan\tM\t12352\t2018\r\n"
     ],
     "output_type": "stream"
    }
   ],
   "source": [
    "N = int(input())\n",
    "data_lines = data.rstrip().split('\\n')\n",
    "print(f'N:{N}')\n",
    "print('\\n'.join(data_lines[-N:]))\n",
    "print('------------------------')\n",
    "\n",
    "!tail -n 2 ./data/popular-names.txt"
   ],
   "metadata": {
    "collapsed": false,
    "pycharm": {
     "name": "#%%\n",
     "is_executing": false
    }
   }
  },
  {
   "cell_type": "markdown",
   "source": [
    "### 16. ファイルをN分割する\n",
    "自然数Nをコマンドライン引数などの手段で受け取り，入力のファイルを行単位でN分割せよ．同様の処理をsplitコマンドで実現せよ．"
   ],
   "metadata": {
    "collapsed": false
   }
  },
  {
   "cell_type": "code",
   "execution_count": 46,
   "outputs": [
    {
     "data": {
      "text/plain": "['Mason\\tM\\t12435\\t2018', 'Logan\\tM\\t12352\\t2018']"
     },
     "metadata": {},
     "output_type": "execute_result",
     "execution_count": 46
    }
   ],
   "source": [],
   "metadata": {
    "collapsed": false,
    "pycharm": {
     "name": "#%%\n",
     "is_executing": false
    }
   }
  },
  {
   "cell_type": "markdown",
   "source": [
    "### 17. １列目の文字列の異なり\n",
    "1列目の文字列の種類（異なる文字列の集合）を求めよ．確認にはsort, uniqコマンドを用いよ．"
   ],
   "metadata": {
    "collapsed": false
   }
  },
  {
   "cell_type": "code",
   "execution_count": null,
   "outputs": [],
   "source": [],
   "metadata": {
    "collapsed": false,
    "pycharm": {
     "name": "#%%\n"
    }
   }
  },
  {
   "cell_type": "markdown",
   "source": [
    "### 18. 各行を3コラム目の数値の降順にソート\n",
    "各行を3コラム目の数値の逆順で整列せよ（注意: 各行の内容は変更せずに並び替えよ）．確認にはsortコマンドを用いよ（この問題はコマンドで実行した時の結果と合わなくてもよい）．"
   ],
   "metadata": {
    "collapsed": false
   }
  },
  {
   "cell_type": "code",
   "execution_count": null,
   "outputs": [],
   "source": [],
   "metadata": {
    "collapsed": false,
    "pycharm": {
     "name": "#%%\n"
    }
   }
  },
  {
   "cell_type": "markdown",
   "source": [
    "### 19. 各行の1コラム目の文字列の出現頻度を求め，出現頻度の高い順に並べる\n",
    "各行の1列目の文字列の出現頻度を求め，その高い順に並べて表示せよ．確認にはcut, uniq, sortコマンドを用いよ．"
   ],
   "metadata": {
    "collapsed": false,
    "pycharm": {
     "name": "#%% md\n"
    }
   }
  },
  {
   "cell_type": "code",
   "execution_count": null,
   "outputs": [],
   "source": [
    "\n",
    "\n"
   ],
   "metadata": {
    "collapsed": false,
    "pycharm": {
     "name": "#%%\n"
    }
   }
  }
 ],
 "metadata": {
  "kernelspec": {
   "name": "python3",
   "language": "python",
   "display_name": "Python 3"
  },
  "language_info": {
   "codemirror_mode": {
    "name": "ipython",
    "version": 3
   },
   "file_extension": ".py",
   "mimetype": "text/x-python",
   "name": "python",
   "nbconvert_exporter": "python",
   "pygments_lexer": "ipython3",
   "version": "3.8.1"
  },
  "pycharm": {
   "stem_cell": {
    "cell_type": "raw",
    "source": [],
    "metadata": {
     "collapsed": false
    }
   }
  }
 },
 "nbformat": 4,
 "nbformat_minor": 4
}