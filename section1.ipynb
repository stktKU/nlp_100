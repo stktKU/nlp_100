{
 "cells": [
  {
   "cell_type": "markdown",
   "metadata": {},
   "source": [
    "# 言語処理100本ノック  \n",
    "http://www.cl.ecei.tohoku.ac.jp/nlp100/"
   ]
  },
  {
   "cell_type": "markdown",
   "metadata": {},
   "source": [
    "## 第1章: 準備運動"
   ]
  },
  {
   "cell_type": "code",
   "execution_count": 1,
   "metadata": {},
   "outputs": [
    {
     "name": "stdout",
     "output_type": "stream",
     "text": [
      "desserts\n"
     ]
    }
   ],
   "source": [
    "# 00\n",
    "x = 'stressed'\n",
    "print(x[::-1])"
   ]
  },
  {
   "cell_type": "code",
   "execution_count": 5,
   "metadata": {
    "scrolled": true
   },
   "outputs": [
    {
     "name": "stdout",
     "output_type": "stream",
     "text": [
      "パ ト カ ー\n"
     ]
    }
   ],
   "source": [
    "# 01\n",
    "x = 'パタトクカシーー'\n",
    "print(x[0], x[2], x[4], x[6])"
   ]
  },
  {
   "cell_type": "code",
   "execution_count": 7,
   "metadata": {},
   "outputs": [
    {
     "name": "stdout",
     "output_type": "stream",
     "text": [
      "パタトクカシーー\n"
     ]
    }
   ],
   "source": [
    "# 02\n",
    "x1 = 'パトカー'\n",
    "x2 = 'タクシー'\n",
    "x = [x1_+x2_ for x1_, x2_ in zip(x1, x2)]\n",
    "print(''.join(x))"
   ]
  },
  {
   "cell_type": "code",
   "execution_count": 9,
   "metadata": {},
   "outputs": [
    {
     "name": "stdout",
     "output_type": "stream",
     "text": [
      "['Now', 'I', 'need', 'a', 'drink,', 'alcoholic', 'of', 'course,', 'after', 'the', 'heavy', 'lectures', 'involving', 'quantum', 'mechanics.']\n",
      "[3, 1, 4, 1, 6, 9, 2, 7, 5, 3, 5, 8, 9, 7, 10]\n"
     ]
    }
   ],
   "source": [
    "# 03\n",
    "x = 'Now I need a drink, alcoholic of course, after the heavy lectures involving quantum mechanics.'\n",
    "print(x.split())\n",
    "print([len(x_) for x_ in x.split()])"
   ]
  },
  {
   "cell_type": "code",
   "execution_count": 33,
   "metadata": {},
   "outputs": [],
   "source": [
    "# 04\n",
    "x = 'Hi He Lied Because Boron Could Not Oxidize Fluorine. New Nations Might Also Sign Peace Security Clause. Arthur King Can.'\n",
    "x_wordlist = x.split()\n",
    "i_list = [1, 5, 6, 7, 8, 9, 15, 16, 19]\n",
    "i_list = [i-1 for i in i_list]\n",
    "x_keys = [x_[0]+x_[1]*(i in i_list) for i, x_ in enumerate(x_wordlist) ]\n",
    "x_dict = dict(zip(x_keys, x_wordlist))"
   ]
  },
  {
   "cell_type": "code",
   "execution_count": 134,
   "metadata": {},
   "outputs": [
    {
     "name": "stdout",
     "output_type": "stream",
     "text": [
      "The word bi-gram is as below:\n",
      "['an-NLPer', 'I-am', 'am-an']\n",
      "The character bi-gram is as below:\n",
      "['n ', ' a', 'NL', ' N', 'Pe', 'LP', 'm ', 'er', 'an', 'I ', 'am']\n"
     ]
    }
   ],
   "source": [
    "# 05\n",
    "import re\n",
    "def str2ngram(target, n, n_gram_type='word'):\n",
    "    # target is string or list\n",
    "    # type : 'word': returns word n-gram\n",
    "    #          : 'char': returns character n-gram\n",
    "    n_gram_list = []\n",
    "    if n_gram_type=='word':\n",
    "        symbols_regex = re.compile('[!-/:-@[-`{-~]')\n",
    "        target = target.rstrip()\n",
    "        target = symbols_regex.sub('', target)\n",
    "        target_word_list = target.split()\n",
    "        if len(target)>=n:\n",
    "            for i in range(len(target_word_list)-n+1):\n",
    "                n_gram_list.append('-'.join(target_word_list[i:i+n]))\n",
    "            n_gram_list = list(set(n_gram_list))\n",
    "            return n_gram_list\n",
    "        else:\n",
    "            return None\n",
    "\n",
    "    elif n_gram_type=='char':\n",
    "        symbols_regex = re.compile('[!-/:-@[-`{-~]')\n",
    "        target = target.rstrip()\n",
    "        target = symbols_regex.sub('', target)\n",
    "        if len(target)>=n:\n",
    "            for i in range(len(target)-n+1):\n",
    "                n_gram_list.append(target[i:i+n])\n",
    "            n_gram_list = list(set(n_gram_list))\n",
    "            return n_gram_list\n",
    "        else:\n",
    "            return None\n",
    "    else:\n",
    "        print('type must be \"word\" or \"char\".')\n",
    "\n",
    "def string2ngram(target, n, n_gram_type='word'):\n",
    "    target = ' '.join(target)\n",
    "    n_gram_list = str2ngram(target)\n",
    "    return n_gram_list\n",
    "\n",
    "x = 'I am an NLPer'\n",
    "print('The word bi-gram is as below:')\n",
    "print(str2ngram(x, 2, 'word'))\n",
    "print('The character bi-gram is as below:')\n",
    "print(str2ngram(x, 2, 'char'))"
   ]
  },
  {
   "cell_type": "code",
   "execution_count": 26,
   "metadata": {},
   "outputs": [
    {
     "name": "stdout",
     "output_type": "stream",
     "text": [
      "The character bi-gram of X is ['is', 'se', 'ap', 'pa', 'di', 'ar', 'ad', 'ra']\n",
      "The character bi-gram of Y is ['pa', 'ph', 'ag', 'gr', 'ar', 'ap', 'ra']\n",
      "union : ['is', 'se', 'di', 'pa', 'ad', 'ph', 'ag', 'ar', 'gr', 'ap', 'ra']\n",
      "intersection : ['ap', 'ra', 'ar', 'pa']\n",
      "difference : ['ad', 'is', 'se', 'di']\n",
      "\"se\" is included in X : True\n",
      "\"se\" is included in Y : False\n"
     ]
    }
   ],
   "source": [
    "# 06\n",
    "import myfunc\n",
    "X = myfunc.str2ngram('paraparaparadise', 2, n_gram_type='char')\n",
    "Y = myfunc.str2ngram('paragraph', 2, n_gram_type='char')\n",
    "\n",
    "XY_union = list(set(X) | set(Y))\n",
    "XY_intersection = list(set(X) & set(Y))\n",
    "XY_difference = list(set(X) - set(Y))\n",
    "print('The character bi-gram of X is {}'.format(X))\n",
    "print('The character bi-gram of Y is {}'.format(Y))\n",
    "print('union : {}'.format(XY_union))\n",
    "print('intersection : {}'.format(XY_intersection))\n",
    "print('difference : {}'.format(XY_difference))\n",
    "print('\"se\" is included in X : {}'.format('se' in X))\n",
    "print('\"se\" is included in Y : {}'.format('se' in Y))"
   ]
  },
  {
   "cell_type": "code",
   "execution_count": 34,
   "metadata": {},
   "outputs": [
    {
     "name": "stdout",
     "output_type": "stream",
     "text": [
      "12時の気温は22.4\n"
     ]
    }
   ],
   "source": [
    "# 07\n",
    "def print_xyz(x, y, z):\n",
    "    print('{0}時の{1}は{2}'.format(x, y, z))\n",
    "print_xyz(12, \"気温\", 22.4)"
   ]
  },
  {
   "cell_type": "code",
   "execution_count": 158,
   "metadata": {},
   "outputs": [
    {
     "name": "stdout",
     "output_type": "stream",
     "text": [
      "aa2sdf3oij -> zz2hwu3lrq -> aa2sdf3oij\n",
      "is x == x_encoded_decoded : True\n"
     ]
    }
   ],
   "source": [
    "# 08\n",
    "def cipher(target):\n",
    "    output = ''\n",
    "    for target_ in target:\n",
    "        if target_.islower():\n",
    "            output+=chr(219-ord(target_))\n",
    "        else:\n",
    "            output+=target_\n",
    "    return output\n",
    "x = 'aa2sdf3oij'\n",
    "x_encoded = cipher(x)\n",
    "x_encoded_decoded = cipher(x_encoded)\n",
    "\n",
    "print('{} -> {} -> {}'.format(x, x_encoded, x_encoded_decoded))\n",
    "print('is x == x_encoded_decoded : {}'.format(x == x_encoded_decoded))"
   ]
  },
  {
   "cell_type": "code",
   "execution_count": 159,
   "metadata": {},
   "outputs": [
    {
     "data": {
      "text/plain": [
       "\"I colud'nt belveie that I cluod aultclay untsarendd what I was riednag : the pmeohneanl pwoer of the hmuan mind .\""
      ]
     },
     "execution_count": 159,
     "metadata": {},
     "output_type": "execute_result"
    }
   ],
   "source": [
    "# 09\n",
    "import numpy as np\n",
    "def shuffle_string(target):\n",
    "    if len(target)<=4:\n",
    "        return target\n",
    "    else:\n",
    "        sort_index = [i+1 for i in range(len(target)-2)]\n",
    "        np.random.shuffle(sort_index)\n",
    "        sort_index = [0] + sort_index + [len(target)-1]\n",
    "        output = [target[i] for i in sort_index]\n",
    "        return ''.join(output)\n",
    "def shuffle_sentence(target):\n",
    "    target_list = target.split()\n",
    "    output = [shuffle_string(target_) for target_ in target_list]\n",
    "    return ' '.join(output)\n",
    "\n",
    "shuffle_sentence(\"I couldn't believe that I could actually understand what I was reading : the phenomenal power of the human mind .\")"
   ]
  }
 ],
 "metadata": {
  "kernelspec": {
   "display_name": "Python 3.8.1 64-bit",
   "language": "python",
   "name": "python38164bit1770e7fb49b04e78830c685e3f3f639c"
  },
  "language_info": {
   "codemirror_mode": {
    "name": "ipython",
    "version": 3
   },
   "file_extension": ".py",
   "mimetype": "text/x-python",
   "name": "python",
   "nbconvert_exporter": "python",
   "pygments_lexer": "ipython3",
   "version": "3.8.1"
  }
 },
 "nbformat": 4,
 "nbformat_minor": 4
}
